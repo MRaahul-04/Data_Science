{
  "nbformat": 4,
  "nbformat_minor": 0,
  "metadata": {
    "colab": {
      "provenance": []
    },
    "kernelspec": {
      "name": "python3",
      "display_name": "Python 3"
    },
    "language_info": {
      "name": "python"
    }
  },
  "cells": [
    {
      "cell_type": "markdown",
      "source": [
        "#Statistics part 2"
      ],
      "metadata": {
        "id": "9bkYfDZugvTr"
      }
    },
    {
      "cell_type": "markdown",
      "source": [
        "1. **What is hypothesis testing in statistics?**  \n",
        "   - Hypothesis testing is a way to check if something is true using data. It helps us decide whether to accept or reject an idea based on evidence.\n",
        "\n",
        "2. **What is the null hypothesis, and how does it differ from the alternative hypothesis?**  \n",
        "   - The **null hypothesis (H₀)** assumes that there is no effect or no difference (things stay the same).  \n",
        "   - The **alternative hypothesis (H₁)** suggests that there is an effect or a difference (something has changed).  \n",
        "   Example: If testing a new medicine, H₀ says it has no effect, while H₁ says it does.\n",
        "\n",
        "3. **What is the significance level in hypothesis testing, and why is it important?**  \n",
        "   - The significance level is usually 5% or 0.05 is the chance we are willing to take to say something is true when it's actually not. It helps control false conclusions.\n",
        "\n",
        "4. **What does a P-value represent in hypothesis testing?**  \n",
        "   - The P-value tells us how likely it is to get our test results if the null hypothesis is true. A small P-value means our results are surprising, so we might reject H₀.\n",
        "\n",
        "5. **How do you interpret the P-value in hypothesis testing?**  \n",
        "   - If **P-value ≤ 0.05**, reject H₀ (there's strong evidence for H₁).  \n",
        "   - If **P-value > 0.05**, do not reject H₀ (not enough evidence to support H₁).  \n",
        "\n",
        "6. **What are Type 1 and Type 2 errors in hypothesis testing?**  \n",
        "   - **Type 1 Error**: Rejecting H₀ when it is actually true (false alarm).  \n",
        "   - **Type 2 Error**: Not rejecting H₀ when it is actually false (missed detection).  \n",
        "\n",
        "7. **What is the difference between a one-tailed and a two-tailed test in hypothesis testing?**  \n",
        "   - **One-tailed test**: Checks if something is greater or smaller than expected.  \n",
        "   - **Two-tailed test**: Checks if something is just different (higher or lower).  \n",
        "   Example: Checking if a drug increases blood pressure (one-tailed) vs. checking if it changes blood pressure in any way (two-tailed).\n",
        "\n",
        "8. **What is the Z-test, and when is it used in hypothesis testing?**  \n",
        "   - A Z-test is used when comparing averages and the sample size is large (usually over 30). It checks if a sample mean is different from a known population mean.\n",
        "\n",
        "9. **How do you calculate the Z-score, and what does it represent in hypothesis testing?**  \n",
        "   - **Z-score = (Sample Mean - Population Mean) / Standard Deviation**  \n",
        "   It tells us how far our sample is from the average in standard units.\n",
        "\n",
        "10. **What is the T-distribution, and when should it be used instead of the normal distribution?**  \n",
        "    - The T-distribution is used when the sample size is small (less than 30). It looks like the normal distribution but has fatter tails (more spread out).\n",
        "\n",
        "11. **What is the difference between a Z-test and a T-test?**  \n",
        "    - **Z-test**: Used when the sample size is large (≥ 30) and we know the population standard deviation.  \n",
        "    - **T-test**: Used when the sample size is small (< 30) and we don’t know the population standard deviation.\n",
        "\n",
        "12. **What is the T-test, and how is it used in hypothesis testing?**  \n",
        "    - A T-test compares two groups to see if their means are significantly different (e.g., testing if a new teaching method improves student scores).\n",
        "\n",
        "13. **What is the relationship between Z-test and T-test in hypothesis testing?**  \n",
        "    - Both are used to compare averages, but Z-test is for large samples, while T-test is for small samples.\n",
        "\n",
        "14. **What is a confidence interval, and how is it used to interpret statistical results?**  \n",
        "    - A confidence interval gives a range where we expect the true value to be. For example, if we say \"95% confidence interval: 50-60,\" we are 95% sure the true value is between 50 and 60.\n",
        "\n",
        "15. **What is the margin of error, and how does it affect the confidence interval?**  \n",
        "    - The margin of error is how much the estimate can vary. A larger margin means a wider confidence interval, making the results less precise.\n",
        "\n",
        "16. **How is Bayes' Theorem used in statistics, and what is its significance?**  \n",
        "    - Bayes’ Theorem helps update probabilities based on new evidence. It is widely used in spam filters, medical tests, and AI.\n",
        "\n",
        "17. **What is the Chi-square distribution, and when is it used?**  \n",
        "    - The Chi-square distribution is used for categorical data (like yes/no answers). It helps test if two groups are related or if a dataset fits expectations.\n",
        "\n",
        "18. **What is the Chi-square goodness of fit test, and how is it applied?**  \n",
        "    - This test checks if observed data matches expected data. Example: If a dice should roll each number equally, but it doesn’t, this test can tell us if the dice is fair.\n",
        "\n",
        "19. **What is the F-distribution, and when is it used in hypothesis testing?**  \n",
        "    - The F-distribution is used when comparing **more than two groups**, such as in ANOVA tests.\n",
        "\n",
        "20. **What is an ANOVA test, and what are its assumptions?**  \n",
        "    - ANOVA (Analysis of Variance) compares **three or more group means** to see if they are different. It assumes:  \n",
        "    - Data is normally distributed.  \n",
        "    - Groups have similar variance.  \n",
        "    - Samples are independent.\n",
        "\n",
        "21. **What are the different types of ANOVA tests?**  \n",
        "    - **One-way ANOVA**: Compares one factor across multiple groups.  \n",
        "    - **Two-way ANOVA**: Compares two factors at the same time.  \n",
        "\n",
        "22. **What is the F-test, and how does it relate to hypothesis testing?**  \n",
        "    - The F-test compares variances between two or more groups to see if they are significantly different. It is often used in ANOVA."
      ],
      "metadata": {
        "id": "oauBjf63hAHp"
      }
    },
    {
      "cell_type": "markdown",
      "source": [
        "#Practical questions"
      ],
      "metadata": {
        "id": "pa258RC1iC4k"
      }
    },
    {
      "cell_type": "markdown",
      "source": [
        "1. Write a Python program to perform a Z-test for comparing a sample mean to a known population mean and interpret the results."
      ],
      "metadata": {
        "id": "v3ZJ7TldiE3n"
      }
    },
    {
      "cell_type": "code",
      "source": [
        "import numpy as np\n",
        "from scipy.stats import norm\n",
        "\n",
        "sample = [50, 52, 48, 47, 53, 49, 51, 50, 48, 52]\n",
        "population_mean = 50\n",
        "sample_mean = np.mean(sample)\n",
        "sample_std = np.std(sample, ddof=1)\n",
        "n = len(sample)\n",
        "\n",
        "z_score = (sample_mean - population_mean) / (sample_std / np.sqrt(n))\n",
        "p_value = 2 * (1 - norm.cdf(abs(z_score)))\n",
        "\n",
        "print(\"Z-score:\", z_score)\n",
        "print(\"P-value:\", p_value)"
      ],
      "metadata": {
        "colab": {
          "base_uri": "https://localhost:8080/"
        },
        "id": "Xs2tBOo3i0al",
        "outputId": "f45ec272-8975-4df8-f92b-56fbe1d0cb44"
      },
      "execution_count": 2,
      "outputs": [
        {
          "output_type": "stream",
          "name": "stdout",
          "text": [
            "Z-score: 0.0\n",
            "P-value: 1.0\n"
          ]
        }
      ]
    },
    {
      "cell_type": "markdown",
      "source": [
        "2. Simulate random data to perform hypothesis testing and calculate the corresponding P-value using Python."
      ],
      "metadata": {
        "id": "wVpMb-fEiFjF"
      }
    },
    {
      "cell_type": "code",
      "source": [
        "import numpy as np\n",
        "from scipy import stats\n",
        "\n",
        "sample = np.random.normal(loc=50, scale=10, size=100)\n",
        "population_mean = 50\n",
        "\n",
        "t_stat, p_value = stats.ttest_1samp(sample, population_mean)\n",
        "\n",
        "print(\"T-statistic:\", t_stat)\n",
        "print(\"P-value:\", p_value)"
      ],
      "metadata": {
        "colab": {
          "base_uri": "https://localhost:8080/"
        },
        "id": "IANPpI6rkQGb",
        "outputId": "31284373-265a-43b3-89e2-fcd1406c523e"
      },
      "execution_count": 6,
      "outputs": [
        {
          "output_type": "stream",
          "name": "stdout",
          "text": [
            "T-statistic: 1.0014220704107344\n",
            "P-value: 0.3190642233589366\n"
          ]
        }
      ]
    },
    {
      "cell_type": "markdown",
      "source": [
        "3. Implement a one-sample Z-test using Python to compare the sample mean with the population mean."
      ],
      "metadata": {
        "id": "J0KaTw7YiIPv"
      }
    },
    {
      "cell_type": "code",
      "source": [
        "import numpy as np\n",
        "from scipy.stats import norm\n",
        "\n",
        "sample = [50, 52, 48, 47, 53, 49, 51, 50, 48, 52]\n",
        "population_mean = 50\n",
        "sample_mean = np.mean(sample)\n",
        "sample_std = np.std(sample, ddof=1)\n",
        "n = len(sample)\n",
        "\n",
        "z_score = (sample_mean - population_mean) / (sample_std / np.sqrt(n))\n",
        "p_value = 2 * (1 - norm.cdf(abs(z_score)))\n",
        "\n",
        "print(\"Z-score:\", z_score)\n",
        "print(\"P-value:\", p_value)"
      ],
      "metadata": {
        "colab": {
          "base_uri": "https://localhost:8080/"
        },
        "id": "46btYQ2hliZf",
        "outputId": "bc8fb461-03cf-4d9c-9673-ff608591aa43"
      },
      "execution_count": 12,
      "outputs": [
        {
          "output_type": "stream",
          "name": "stdout",
          "text": [
            "Z-score: 0.0\n",
            "P-value: 1.0\n"
          ]
        }
      ]
    },
    {
      "cell_type": "markdown",
      "source": [
        "4. Perform a two-tailed Z-test using Python and visualize the decision region on a plot"
      ],
      "metadata": {
        "id": "0bmzo4dLiIM6"
      }
    },
    {
      "cell_type": "code",
      "source": [
        "import numpy as np\n",
        "import matplotlib.pyplot as plt\n",
        "from scipy.stats import norm\n",
        "\n",
        "sample = np.random.normal(50, 5, 30)\n",
        "population_mean = 50\n",
        "sample_mean = np.mean(sample)\n",
        "sample_std = np.std(sample, ddof=1)\n",
        "n = len(sample)\n",
        "\n",
        "z_score = (sample_mean - population_mean) / (sample_std / np.sqrt(n))\n",
        "p_value = 2 * (1 - norm.cdf(abs(z_score)))\n",
        "\n",
        "x = np.linspace(-3, 3, 100)\n",
        "plt.plot(x, norm.pdf(x), label=\"Standard Normal Curve\")\n",
        "\n",
        "plt.axvline(z_score, color='blue', linestyle='dashed', label=f\"Z-score = {z_score:}\")\n",
        "plt.title(\"Two-Tailed Z-test Decision Region\")\n",
        "plt.legend()\n",
        "plt.show()"
      ],
      "metadata": {
        "colab": {
          "base_uri": "https://localhost:8080/",
          "height": 452
        },
        "id": "00hodBeYnXqS",
        "outputId": "f34fbba1-427c-478c-c7fc-f32e9b0a6e1d"
      },
      "execution_count": 20,
      "outputs": [
        {
          "output_type": "display_data",
          "data": {
            "text/plain": [
              "<Figure size 640x480 with 1 Axes>"
            ],
            "image/png": "[encoded data removed]"
          },
          "metadata": {}
        }
      ]
    },
    {
      "cell_type": "markdown",
      "source": [
        "5. Create a Python function that calculates and visualizes Type 1 and Type 2 errors during hypothesis testing."
      ],
      "metadata": {
        "id": "Rvzzd5vxiH7c"
      }
    },
    {
      "cell_type": "code",
      "source": [
        "import numpy as np\n",
        "import matplotlib.pyplot as plt\n",
        "from scipy.stats import norm\n",
        "\n",
        "def type1_type2_visualize():\n",
        "    x = np.linspace(-4, 4, 1000)\n",
        "    y = stats.norm.pdf(x)\n",
        "\n",
        "    plt.plot(x, y, label=\"Null Distribution (H₀)\")\n",
        "    plt.fill_between(x, y, where=(x >= 1.65), color='red', alpha=0.5, label=\"Type 1 Error\")\n",
        "    plt.fill_between(x, y, where=(x <= -1.65), color='blue', alpha=0.5, label=\"Type 2 Error\")\n",
        "\n",
        "    plt.axvline(1.65, color='black', linestyle='dashed')\n",
        "    plt.axvline(-1.65, color='black', linestyle='dashed')\n",
        "\n",
        "    plt.legend()\n",
        "    plt.title(\"Type 1 & Type 2 Errors\")\n",
        "    plt.show()\n",
        "\n",
        "type1_type2_visualize()"
      ],
      "metadata": {
        "colab": {
          "base_uri": "https://localhost:8080/",
          "height": 452
        },
        "id": "gUku1-k_q5q7",
        "outputId": "73637274-33d6-47d8-93ac-33237a63092e"
      },
      "execution_count": 21,
      "outputs": [
        {
          "output_type": "display_data",
          "data": {
            "text/plain": [
              "<Figure size 640x480 with 1 Axes>"
            ],
            "image/png": "[encoded data removed]"
          },
          "metadata": {}
        }
      ]
    },
    {
      "cell_type": "markdown",
      "source": [
        "6. Write a Python program to perform an independent T-test and interpret the results."
      ],
      "metadata": {
        "id": "q48WsdU8iH4W"
      }
    },
    {
      "cell_type": "code",
      "source": [
        "import numpy as np\n",
        "from scipy import stats\n",
        "\n",
        "group1 = np.random.normal(50, 10, 30)\n",
        "group2 = np.random.normal(55, 10, 30)\n",
        "\n",
        "t_stat, p_value = stats.ttest_ind(group1, group2)\n",
        "\n",
        "print(\"T-statistic:\", t_stat)\n",
        "print(\"P-value: \", p_value)"
      ],
      "metadata": {
        "colab": {
          "base_uri": "https://localhost:8080/"
        },
        "id": "Ik3UWC8usuCi",
        "outputId": "aff697dc-c995-4fd1-f379-1a130829c696"
      },
      "execution_count": 24,
      "outputs": [
        {
          "output_type": "stream",
          "name": "stdout",
          "text": [
            "T-statistic: -2.190228461311677\n",
            "P-value:  0.03254179408850017\n"
          ]
        }
      ]
    },
    {
      "cell_type": "markdown",
      "source": [
        "7. Perform a paired sample T-test using Python and visualize the comparison results."
      ],
      "metadata": {
        "id": "mGRR7ACMiHzF"
      }
    },
    {
      "cell_type": "code",
      "source": [
        "import numpy as np\n",
        "from scipy import stats\n",
        "\n",
        "before = np.random.normal(50, 5, 30)\n",
        "after = before + np.random.normal(2, 2, 30)\n",
        "\n",
        "# Perform paired t-test\n",
        "t_stat, p_value = stats.ttest_rel(before, after)\n",
        "\n",
        "# Plot before vs after\n",
        "plt.hist(before, alpha=0.5, label=\"Before\", bins=10)\n",
        "plt.hist(after, alpha=0.5, label=\"After\", bins=10)\n",
        "plt.legend()\n",
        "plt.title(\"Paired Sample Comparison\")\n",
        "plt.show()\n",
        "\n",
        "print(\"T-statistic:\", t_stat)\n",
        "print(\"P-value: \", p_value)"
      ],
      "metadata": {
        "colab": {
          "base_uri": "https://localhost:8080/",
          "height": 488
        },
        "id": "mEPY4PXTtYbP",
        "outputId": "738e16b3-a008-4cd6-f46c-99f080a6dd2d"
      },
      "execution_count": 26,
      "outputs": [
        {
          "output_type": "display_data",
          "data": {
            "text/plain": [
              "<Figure size 640x480 with 1 Axes>"
            ],
            "image/png": "[encoded data removed]"
          },
          "metadata": {}
        },
        {
          "output_type": "stream",
          "name": "stdout",
          "text": [
            "T-statistic: -5.2868421218059805\n",
            "P-value:  1.1429871293137174e-05\n"
          ]
        }
      ]
    },
    {
      "cell_type": "markdown",
      "source": [
        "8. Simulate data and perform both Z-test and T-test, then compare the results using Python."
      ],
      "metadata": {
        "id": "g0Lg95FFiHwP"
      }
    },
    {
      "cell_type": "code",
      "source": [
        "import numpy as np\n",
        "from scipy.stats import ttest_1samp, norm\n",
        "\n",
        "sample = np.random.normal(50, 5, 30)\n",
        "n = len(sample)\n",
        "\n",
        "# Z-test\n",
        "z_score = (np.mean(sample) - 50) / (5 / np.sqrt(n))\n",
        "z_p_value = 2 * (1 - norm.cdf(abs(z_score)))\n",
        "\n",
        "# T-test\n",
        "t_stat, t_p_value = ttest_1samp(sample, popmean=50)\n",
        "\n",
        "print(\"Z-test P-value: \", z_p_value)\n",
        "print(\"T-test P-value: \", t_p_value)"
      ],
      "metadata": {
        "colab": {
          "base_uri": "https://localhost:8080/"
        },
        "id": "uUpe7j2Rt4Mn",
        "outputId": "ce5e28eb-a594-4461-ba20-a4003eb5f6c3"
      },
      "execution_count": 27,
      "outputs": [
        {
          "output_type": "stream",
          "name": "stdout",
          "text": [
            "Z-test P-value:  0.6877016447259341\n",
            "T-test P-value:  0.7102802256880275\n"
          ]
        }
      ]
    },
    {
      "cell_type": "markdown",
      "source": [
        "9. Write a Python function to calculate the confidence interval for a sample mean and explain its significance."
      ],
      "metadata": {
        "id": "qAP64_q8iHtZ"
      }
    },
    {
      "cell_type": "code",
      "source": [
        "import numpy as np\n",
        "from scipy.stats import norm\n",
        "\n",
        "def confidence_interval(data, confidence=0.95):\n",
        "    mean = np.mean(data)\n",
        "    std_err = np.std(data, ddof=1) / np.sqrt(len(data))\n",
        "    margin = norm.ppf((1 + confidence) / 2) * std_err\n",
        "\n",
        "    lower = mean - margin\n",
        "    upper = mean + margin\n",
        "\n",
        "    print(f\"Confidence Interval: ({lower:.2f}, {upper:.2f})\")\n",
        "    print(f\"This means we are {confidence*100:.0f}% sure that the true mean lies within this range.\")\n",
        "\n",
        "# Example Usage\n",
        "sample_data = np.random.normal(50, 5, 30)\n",
        "confidence_interval(sample_data)"
      ],
      "metadata": {
        "colab": {
          "base_uri": "https://localhost:8080/"
        },
        "id": "zATSmTdtuyfC",
        "outputId": "51eb3bf8-f7ae-409e-b3da-88acbd863044"
      },
      "execution_count": 31,
      "outputs": [
        {
          "output_type": "stream",
          "name": "stdout",
          "text": [
            "Confidence Interval: (48.37, 51.43)\n",
            "This means we are 95% sure that the true mean lies within this range.\n"
          ]
        }
      ]
    },
    {
      "cell_type": "markdown",
      "source": [
        "10. Write a Python program to calculate the margin of error for a given confidence level using sample data."
      ],
      "metadata": {
        "id": "XR6YMDoKiHpv"
      }
    },
    {
      "cell_type": "code",
      "source": [
        "from scipy.stats import norm\n",
        "\n",
        "# Sample data\n",
        "data = [10, 12, 14, 11, 13, 15, 16, 14, 13, 12]\n",
        "sample_mean = np.mean(data)\n",
        "sample_std = np.std(data, ddof=1)\n",
        "n = len(data)\n",
        "\n",
        "# Confidence level (e.g., 95%)\n",
        "confidence = 0.95\n",
        "z_critical = norm.ppf((1 + confidence) / 2)\n",
        "\n",
        "# Margin of error\n",
        "margin_error = z_critical * (sample_std / np.sqrt(n))\n",
        "\n",
        "print(f\"Margin of Error: {margin_error:.2f}\")"
      ],
      "metadata": {
        "colab": {
          "base_uri": "https://localhost:8080/"
        },
        "id": "yV2tF3yjvueY",
        "outputId": "1afbab0f-e192-4adf-efe7-518aa056beba"
      },
      "execution_count": 30,
      "outputs": [
        {
          "output_type": "stream",
          "name": "stdout",
          "text": [
            "Margin of Error: 1.13\n"
          ]
        }
      ]
    },
    {
      "cell_type": "markdown",
      "source": [
        "11. Implement a Bayesian inference method using Bayes' Theorem in Python and explain the process."
      ],
      "metadata": {
        "id": "hole5QUZiHi-"
      }
    },
    {
      "cell_type": "code",
      "source": [
        "# Bayes' Theorem formula: P(A|B) = (P(B|A) * P(A)) / P(B)\n",
        "\n",
        "P_A = 0.3  # Probability of having a disease\n",
        "P_B_given_A = 0.8  # Probability of testing positive if having the disease\n",
        "P_B_given_not_A = 0.1  # Probability of testing positive if not having the disease\n",
        "P_not_A = 1 - P_A  # Probability of not having the disease\n",
        "\n",
        "# Total probability of testing positive\n",
        "P_B = (P_B_given_A * P_A) + (P_B_given_not_A * P_not_A)\n",
        "\n",
        "# Applying Bayes' theorem\n",
        "P_A_given_B = (P_B_given_A * P_A) / P_B\n",
        "\n",
        "print(f\"Probability of having the disease given a positive test: {P_A_given_B:.2f}\")"
      ],
      "metadata": {
        "colab": {
          "base_uri": "https://localhost:8080/"
        },
        "id": "J1rO5TOdxENT",
        "outputId": "af296751-1c94-4d93-fdf0-e97e5b119de5"
      },
      "execution_count": 29,
      "outputs": [
        {
          "output_type": "stream",
          "name": "stdout",
          "text": [
            "Probability of having the disease given a positive test: 0.77\n"
          ]
        }
      ]
    },
    {
      "cell_type": "markdown",
      "source": [
        "12. Perform a Chi-square test for independence between two categorical variables in Python."
      ],
      "metadata": {
        "id": "HXTAypafiYFW"
      }
    },
    {
      "cell_type": "code",
      "source": [
        "import numpy as np\n",
        "from scipy.stats import chi2_contingency\n",
        "\n",
        "# Contingency table (e.g., survey data on two categorical variables)\n",
        "data = np.array([[20, 30], [25, 35]])\n",
        "\n",
        "# Perform Chi-square test\n",
        "chi2, p, dof, expected = chi2_contingency(data)\n",
        "\n",
        "print(f\"Chi-square Statistic: {chi2}\")\n",
        "print(f\"P-value: {p}\")"
      ],
      "metadata": {
        "colab": {
          "base_uri": "https://localhost:8080/"
        },
        "id": "x2S8TyBxxYsC",
        "outputId": "03e89d05-e4b0-456a-99a3-edef68c1a26a"
      },
      "execution_count": 28,
      "outputs": [
        {
          "output_type": "stream",
          "name": "stdout",
          "text": [
            "Chi-square Statistic: 0.0\n",
            "P-value: 1.0\n"
          ]
        }
      ]
    },
    {
      "cell_type": "markdown",
      "source": [
        "13. Write a Python program to calculate the expected frequencies for a Chi-square test based on observed data."
      ],
      "metadata": {
        "id": "WlDoOTT6iYCa"
      }
    },
    {
      "cell_type": "code",
      "source": [
        "import numpy as np\n",
        "from scipy.stats import chi2_contingency\n",
        "\n",
        "observed = np.array([[20, 30], [25, 35]])\n",
        "\n",
        "_, _, _, expected = chi2_contingency(observed)\n",
        "\n",
        "print(\"Expected Frequencies : \", expected)"
      ],
      "metadata": {
        "colab": {
          "base_uri": "https://localhost:8080/"
        },
        "id": "PfFS7pDgxlGK",
        "outputId": "5dbfe0a3-6549-4cd4-9a4e-fdb24c11712d"
      },
      "execution_count": 38,
      "outputs": [
        {
          "output_type": "stream",
          "name": "stdout",
          "text": [
            "Expected Frequencies :  [[20.45454545 29.54545455]\n",
            " [24.54545455 35.45454545]]\n"
          ]
        }
      ]
    },
    {
      "cell_type": "markdown",
      "source": [
        "14. Perform a goodness-of-fit test using Python to compare the observed data to an expected distribution."
      ],
      "metadata": {
        "id": "C9gmapDziX_B"
      }
    },
    {
      "cell_type": "code",
      "source": [
        "import numpy as np\n",
        "from scipy.stats import chisquare\n",
        "\n",
        "observed = np.array([50, 30, 20])\n",
        "\n",
        "expected = np.array([33, 33, 33]) * (sum(observed) / sum([33, 33, 33]))\n",
        "\n",
        "chi2, p = chisquare(observed, expected)\n",
        "\n",
        "print(f\"Chi-square Statistic: {chi2}\")\n",
        "print(f\"P-value: {p}\")"
      ],
      "metadata": {
        "colab": {
          "base_uri": "https://localhost:8080/"
        },
        "id": "OyMkdGGHyATV",
        "outputId": "168a7bb3-d493-41a2-b6aa-fe7bcc46b87f"
      },
      "execution_count": 41,
      "outputs": [
        {
          "output_type": "stream",
          "name": "stdout",
          "text": [
            "Chi-square Statistic: 14.0\n",
            "P-value: 0.0009118819655545164\n"
          ]
        }
      ]
    },
    {
      "cell_type": "markdown",
      "source": [
        "15. Create a Python script to simulate and visualize the Chi-square distribution and discuss its characteristics."
      ],
      "metadata": {
        "id": "si6IghQqiX76"
      }
    },
    {
      "cell_type": "code",
      "source": [
        "import numpy as np\n",
        "import matplotlib.pyplot as plt\n",
        "from scipy.stats import chi2\n",
        "\n",
        "df = 4  # Degrees of freedom\n",
        "x = np.linspace(0, 15, 100)\n",
        "y = chi2.pdf(x, df)\n",
        "\n",
        "plt.plot(x, y, label=f\"Chi-square (df={df})\")\n",
        "plt.xlabel(\"Chi-square values\")\n",
        "plt.ylabel(\"Probability Density\")\n",
        "plt.title(\"Chi-square Distribution\")\n",
        "plt.legend()\n",
        "plt.show()"
      ],
      "metadata": {
        "colab": {
          "base_uri": "https://localhost:8080/",
          "height": 472
        },
        "id": "XSMenW4H2Tpy",
        "outputId": "358e6e9f-ba2b-46de-fc84-f8b3aa83291f"
      },
      "execution_count": 42,
      "outputs": [
        {
          "output_type": "display_data",
          "data": {
            "text/plain": [
              "<Figure size 640x480 with 1 Axes>"
            ],
            "image/png": "[encoded data removed]"
          },
          "metadata": {}
        }
      ]
    },
    {
      "cell_type": "markdown",
      "source": [
        "16. Implement an F-test using Python to compare the variances of two random samples."
      ],
      "metadata": {
        "id": "_y5Afsn8iX4P"
      }
    },
    {
      "cell_type": "code",
      "source": [
        "import numpy as np\n",
        "from scipy.stats import f\n",
        "\n",
        "# Sample data\n",
        "group1 = [10, 12, 14, 16, 18]\n",
        "group2 = [8, 9, 11, 12, 15]\n",
        "\n",
        "# Calculate variances\n",
        "var1 = np.var(group1, ddof=1)\n",
        "var2 = np.var(group2, ddof=1)\n",
        "\n",
        "# F-test\n",
        "f_stat = var1 / var2\n",
        "df1 = len(group1) - 1\n",
        "df2 = len(group2) - 1\n",
        "p_value = 1 - f.cdf(f_stat, df1, df2)\n",
        "\n",
        "print(f\"F-statistic: {f_stat:.2f}\")\n",
        "print(f\"P-value: {p_value:.4f}\")"
      ],
      "metadata": {
        "colab": {
          "base_uri": "https://localhost:8080/"
        },
        "id": "7a6b4q6D2jEd",
        "outputId": "3f1690b3-c645-4be8-b822-ea96524c3c8f"
      },
      "execution_count": 45,
      "outputs": [
        {
          "output_type": "stream",
          "name": "stdout",
          "text": [
            "F-statistic: 1.33\n",
            "P-value: 0.3936\n"
          ]
        }
      ]
    },
    {
      "cell_type": "markdown",
      "source": [
        "17. Write a Python program to perform an ANOVA test to compare means between multiple groups and interpret the results."
      ],
      "metadata": {
        "id": "XEG4fMi3iXzm"
      }
    },
    {
      "cell_type": "code",
      "source": [
        "import numpy as np\n",
        "from scipy.stats import f_oneway\n",
        "\n",
        "group1 = [10, 12, 14, 16, 18]\n",
        "group2 = [8, 9, 11, 12, 15]\n",
        "group3 = [20, 21, 19, 18, 22]\n",
        "\n",
        "# Perform ANOVA test\n",
        "f_stat, p_value = f_oneway(group1, group2, group3)\n",
        "\n",
        "print(f\"F-statistic: {f_stat:.2f}\")\n",
        "print(f\"P-value: {p_value:.4f}\")"
      ],
      "metadata": {
        "colab": {
          "base_uri": "https://localhost:8080/"
        },
        "id": "mcDzDFDz2uF7",
        "outputId": "e084ba8a-0c58-458c-d411-c21f7cadbc0a"
      },
      "execution_count": 46,
      "outputs": [
        {
          "output_type": "stream",
          "name": "stdout",
          "text": [
            "F-statistic: 15.75\n",
            "P-value: 0.0004\n"
          ]
        }
      ]
    },
    {
      "cell_type": "markdown",
      "source": [
        "18. Perform a one-way ANOVA test using Python to compare the means of different groups and plot the results."
      ],
      "metadata": {
        "id": "RZripiCXilHH"
      }
    },
    {
      "cell_type": "code",
      "source": [
        "import numpy as np\n",
        "import matplotlib.pyplot as plt\n",
        "from scipy.stats import f_oneway\n",
        "\n",
        "group1 = [10, 12, 14, 16, 18]\n",
        "group2 = [8, 9, 11, 12, 15]\n",
        "group3 = [20, 21, 19, 18, 22]\n",
        "\n",
        "f_stat, p_value = f_oneway(group1, group2, group3)\n",
        "\n",
        "print(f\"F-statistic: {f_stat:.2f}\")\n",
        "print(f\"P-value: {p_value:.4f}\")\n",
        "\n",
        "plt.boxplot([group1, group2, group3], labels=[\"Group 1\", \"Group 2\", \"Group 3\"])\n",
        "plt.title(\"ANOVA - Comparison of Groups\")\n",
        "plt.show()"
      ],
      "metadata": {
        "colab": {
          "base_uri": "https://localhost:8080/",
          "height": 543
        },
        "id": "ehpqHwWu2zaS",
        "outputId": "5a3ad096-68b7-46bb-91ee-c3f39528c5cb"
      },
      "execution_count": 48,
      "outputs": [
        {
          "output_type": "stream",
          "name": "stdout",
          "text": [
            "F-statistic: 15.75\n",
            "P-value: 0.0004\n"
          ]
        },
        {
          "output_type": "stream",
          "name": "stderr",
          "text": [
            "<ipython-input-48-43561381854a>:14: MatplotlibDeprecationWarning: The 'labels' parameter of boxplot() has been renamed 'tick_labels' since Matplotlib 3.9; support for the old name will be dropped in 3.11.\n",
            "  plt.boxplot([group1, group2, group3], labels=[\"Group 1\", \"Group 2\", \"Group 3\"])\n"
          ]
        },
        {
          "output_type": "display_data",
          "data": {
            "text/plain": [
              "<Figure size 640x480 with 1 Axes>"
            ],
            "image/png": "[encoded data removed]"
          },
          "metadata": {}
        }
      ]
    },
    {
      "cell_type": "markdown",
      "source": [
        "19. Write a Python function to check the assumptions (normality, independence, and equal variance) for ANOVA."
      ],
      "metadata": {
        "id": "C5DXg2LqilEG"
      }
    },
    {
      "cell_type": "code",
      "source": [
        "import numpy as np\n",
        "import scipy.stats as stats\n",
        "import matplotlib.pyplot as plt\n",
        "\n",
        "group1 = [10, 12, 14, 16, 18]\n",
        "group2 = [8, 9, 11, 12, 15]\n",
        "group3 = [20, 21, 19, 18, 22]\n",
        "\n",
        "print(\"Normality Check:\")\n",
        "for i, group in enumerate([group1, group2, group3], 1):\n",
        "    stat, p = stats.shapiro(group)\n",
        "    print(f\"Group {i} - p-value: {p:.4f}\")\n",
        "\n",
        "print(\"\\nIndependence Check:\")\n",
        "\n",
        "stat, p = stats.levene(group1, group2, group3)\n",
        "print(\"\\nEqual Variance Check:\")\n",
        "print(f\"Levene's Test - p-value: {p:.4f}\")"
      ],
      "metadata": {
        "colab": {
          "base_uri": "https://localhost:8080/"
        },
        "id": "RagOLu2D3OKh",
        "outputId": "e47893c9-c28b-4486-f4ab-5eb69c1b1b59"
      },
      "execution_count": 50,
      "outputs": [
        {
          "output_type": "stream",
          "name": "stdout",
          "text": [
            "Normality Check:\n",
            "Group 1 - p-value: 0.9672\n",
            "Group 2 - p-value: 0.8327\n",
            "Group 3 - p-value: 0.9672\n",
            "\n",
            "Independence Check:\n",
            "\n",
            "Equal Variance Check:\n",
            "Levene's Test - p-value: 0.4200\n"
          ]
        }
      ]
    },
    {
      "cell_type": "markdown",
      "source": [
        "20. Perform a two-way ANOVA test using Python to study the interaction between two factors and visualize the results."
      ],
      "metadata": {
        "id": "rBHJsmrVik8_"
      }
    },
    {
      "cell_type": "code",
      "source": [
        "import pandas as pd\n",
        "import statsmodels.api as sm\n",
        "from statsmodels.formula.api import ols\n",
        "import matplotlib.pyplot as plt\n",
        "import seaborn as sns\n",
        "\n",
        "data = pd.DataFrame({\n",
        "    'Factor1': ['A', 'A', 'A', 'A', 'B', 'B', 'B', 'B', 'C', 'C', 'C', 'C'],\n",
        "    'Factor2': ['X', 'X', 'Y', 'Y', 'X', 'X', 'Y', 'Y', 'X', 'X', 'Y', 'Y'],\n",
        "    'Value': [10, 11, 12, 13, 14, 15, 16, 17, 19, 20, 21, 22]\n",
        "})\n",
        "\n",
        "model = ols('Value ~ C(Factor1) + C(Factor2) + C(Factor1):C(Factor2)', data=data).fit()\n",
        "anova_table = sm.stats.anova_lm(model, typ=2)\n",
        "\n",
        "print(anova_table)\n",
        "\n",
        "plt.figure(figsize=(8, 5))\n",
        "sns.boxplot(x='Factor1', y='Factor2', data=data)\n",
        "plt.title(\"Effect of 1 and Exercise on 2\")\n",
        "plt.xlabel(\"Factor1\")\n",
        "plt.ylabel(\"Factor2\")\n",
        "plt.show()"
      ],
      "metadata": {
        "colab": {
          "base_uri": "https://localhost:8080/",
          "height": 576
        },
        "id": "zbjHLyYO3guM",
        "outputId": "7e662ec7-e54f-416b-c5ea-0ad97b1c4ef4"
      },
      "execution_count": 59,
      "outputs": [
        {
          "output_type": "stream",
          "name": "stdout",
          "text": [
            "                             sum_sq   df             F    PR(>F)\n",
            "C(Factor1)             1.626667e+02  2.0  1.626667e+02  0.000006\n",
            "C(Factor2)             1.200000e+01  1.0  2.400000e+01  0.002714\n",
            "C(Factor1):C(Factor2)  1.939504e-31  2.0  1.939504e-31  1.000000\n",
            "Residual               3.000000e+00  6.0           NaN       NaN\n"
          ]
        },
        {
          "output_type": "display_data",
          "data": {
            "text/plain": [
              "<Figure size 800x500 with 1 Axes>"
            ],
            "image/png": "[encoded data removed]"
          },
          "metadata": {}
        }
      ]
    },
    {
      "cell_type": "markdown",
      "source": [
        "21. Write a Python program to visualize the F-distribution and discuss its use in hypothesis testing."
      ],
      "metadata": {
        "id": "bmMps_yCiXrg"
      }
    },
    {
      "cell_type": "code",
      "source": [
        "import numpy as np\n",
        "import matplotlib.pyplot as plt\n",
        "import scipy.stats as stats\n",
        "\n",
        "df1, df2 = 5, 10\n",
        "\n",
        "x = np.linspace(0, 5, 1000)\n",
        "\n",
        "f_dist = stats.f.pdf(x, df1, df2)\n",
        "\n",
        "# Plot the F-distribution\n",
        "plt.figure(figsize=(8, 5))\n",
        "plt.plot(x, f_dist, label=f'F-distribution (df1={df1}, df2={df2})', color='blue')\n",
        "plt.fill_between(x, f_dist, alpha=0.3, color='blue')\n",
        "\n",
        "plt.title(\"F-Distribution Visualization\")\n",
        "plt.xlabel(\"F-Value\")\n",
        "plt.ylabel(\"Probability Density\")\n",
        "plt.legend()\n",
        "plt.grid()\n",
        "plt.show()\n",
        "\n",
        "'''\n",
        "1. F-Test for Variance Comparison:\n",
        "- Used to check if two populations have equal variances.\n",
        "- Null Hypothesis (H₀): Variances are equal.\n",
        "- Alternative Hypothesis (H₁): Variances are different.\n",
        "- If the F-value is too high, we reject H₀ (variances are different).\n",
        "\n",
        "2. ANOVA (Analysis of Variance):\n",
        "- F-distribution is used in ANOVA tests to compare multiple group means.\n",
        "- It helps check if at least one group mean is significantly different from others.\n",
        "'''"
      ],
      "metadata": {
        "colab": {
          "base_uri": "https://localhost:8080/",
          "height": 559
        },
        "id": "rHRRoArz55gf",
        "outputId": "6d7a425d-d8cf-4d07-d003-a6e782c12002"
      },
      "execution_count": 61,
      "outputs": [
        {
          "output_type": "display_data",
          "data": {
            "text/plain": [
              "<Figure size 800x500 with 1 Axes>"
            ],
            "image/png": "[encoded data removed]"
          },
          "metadata": {}
        },
        {
          "output_type": "execute_result",
          "data": {
            "text/plain": [
              "'\\n1. F-Test for Variance Comparison:\\n- Used to check if two populations have equal variances.\\n- Null Hypothesis (H₀): Variances are equal.\\n- Alternative Hypothesis (H₁): Variances are different.\\n- If the F-value is too high, we reject H₀ (variances are different).\\n\\n2. ANOVA (Analysis of Variance):\\n- F-distribution is used in ANOVA tests to compare multiple group means.\\n- It helps check if at least one group mean is significantly different from others.\\n'"
            ],
            "application/vnd.google.colaboratory.intrinsic+json": {
              "type": "string"
            }
          },
          "metadata": {},
          "execution_count": 61
        }
      ]
    },
    {
      "cell_type": "markdown",
      "source": [
        "22. Perform a one-way ANOVA test in Python and visualize the results with boxplots to compare group means."
      ],
      "metadata": {
        "id": "GMKw49_TiosR"
      }
    },
    {
      "cell_type": "code",
      "source": [
        "import numpy as np\n",
        "import matplotlib.pyplot as plt\n",
        "from scipy.stats import f_oneway\n",
        "\n",
        "group1 = [10, 12, 14, 16, 18]\n",
        "group2 = [8, 9, 11, 12, 15]\n",
        "group3 = [20, 21, 19, 18, 22]\n",
        "\n",
        "f_stat, p_value = f_oneway(group1, group2, group3)\n",
        "\n",
        "print(f\"F-statistic: {f_stat:.2f}\")\n",
        "print(f\"P-value: {p_value:.4f}\")\n",
        "\n",
        "plt.boxplot([group1, group2, group3], labels=[\"Group 1\", \"Group 2\", \"Group 3\"])\n",
        "plt.title(\"ANOVA - Comparison of Groups\")\n",
        "plt.show()"
      ],
      "metadata": {
        "colab": {
          "base_uri": "https://localhost:8080/",
          "height": 543
        },
        "id": "ZIpsMrpo6ew2",
        "outputId": "9e990f99-2950-4cf6-e078-4dca2596b05b"
      },
      "execution_count": 65,
      "outputs": [
        {
          "output_type": "stream",
          "name": "stdout",
          "text": [
            "F-statistic: 15.75\n",
            "P-value: 0.0004\n"
          ]
        },
        {
          "output_type": "stream",
          "name": "stderr",
          "text": [
            "<ipython-input-65-43561381854a>:14: MatplotlibDeprecationWarning: The 'labels' parameter of boxplot() has been renamed 'tick_labels' since Matplotlib 3.9; support for the old name will be dropped in 3.11.\n",
            "  plt.boxplot([group1, group2, group3], labels=[\"Group 1\", \"Group 2\", \"Group 3\"])\n"
          ]
        },
        {
          "output_type": "display_data",
          "data": {
            "text/plain": [
              "<Figure size 640x480 with 1 Axes>"
            ],
            "image/png": "[encoded data removed]"
          },
          "metadata": {}
        }
      ]
    },
    {
      "cell_type": "markdown",
      "source": [
        "23. Simulate random data from a normal distribution, then perform hypothesis testing to evaluate the means."
      ],
      "metadata": {
        "id": "OW9D6iWwiopr"
      }
    },
    {
      "cell_type": "code",
      "source": [
        "import numpy as np\n",
        "from scipy.stats import ttest_1samp\n",
        "\n",
        "np.random.seed(42)\n",
        "data = np.random.normal(loc=50, scale=5, size=30)\n",
        "\n",
        "t_stat, p_value = ttest_1samp(data, 50)\n",
        "\n",
        "print(f\"T-statistic: {t_stat:.2f}\")\n",
        "print(f\"P-value: {p_value:.4f}\")"
      ],
      "metadata": {
        "colab": {
          "base_uri": "https://localhost:8080/"
        },
        "id": "2oa-c1cZ7lad",
        "outputId": "c7821aa4-c712-4fd3-8987-915760aecd5e"
      },
      "execution_count": 67,
      "outputs": [
        {
          "output_type": "stream",
          "name": "stdout",
          "text": [
            "T-statistic: -1.15\n",
            "P-value: 0.2616\n"
          ]
        }
      ]
    },
    {
      "cell_type": "markdown",
      "source": [
        "24. Perform a hypothesis test for population variance using a Chi-square distribution and interpret the results."
      ],
      "metadata": {
        "id": "_egvn1Xriomi"
      }
    },
    {
      "cell_type": "code",
      "source": [
        "import numpy as np\n",
        "from scipy.stats import chi2\n",
        "\n",
        "data = [10, 12, 14, 16, 18]\n",
        "sample_variance = np.var(data, ddof=1)\n",
        "expected_variance = 4\n",
        "n = len(data)\n",
        "\n",
        "chi2_stat = (n - 1) * sample_variance / expected_variance\n",
        "p_value = 1 - chi2.cdf(chi2_stat, n - 1)\n",
        "\n",
        "print(f\"Chi-square Statistic: {chi2_stat:.2f}\")\n",
        "print(f\"P-value: {p_value:.4f}\")"
      ],
      "metadata": {
        "colab": {
          "base_uri": "https://localhost:8080/"
        },
        "id": "3geo7T-o71yH",
        "outputId": "d0b9f043-e39c-471b-af8c-2414ed425da5"
      },
      "execution_count": 68,
      "outputs": [
        {
          "output_type": "stream",
          "name": "stdout",
          "text": [
            "Chi-square Statistic: 10.00\n",
            "P-value: 0.0404\n"
          ]
        }
      ]
    },
    {
      "cell_type": "markdown",
      "source": [
        "25. Write a Python script to perform a Z-test for comparing proportions between two datasets or groups."
      ],
      "metadata": {
        "id": "jwuQQ5yriHZp"
      }
    },
    {
      "cell_type": "code",
      "source": [
        "import numpy as np\n",
        "from statsmodels.stats.proportion import proportions_ztest\n",
        "\n",
        "successes = np.array([50, 40])\n",
        "samples = np.array([100, 100])\n",
        "\n",
        "z_stat, p_value = proportions_ztest(successes, samples)\n",
        "\n",
        "print(f\"Z-statistic: {z_stat:.2f}\")\n",
        "print(f\"P-value: {p_value:.4f}\")"
      ],
      "metadata": {
        "colab": {
          "base_uri": "https://localhost:8080/"
        },
        "id": "3reb2qsO8EPH",
        "outputId": "a49db449-bfa9-467a-a659-f7ab464eb3e7"
      },
      "execution_count": 69,
      "outputs": [
        {
          "output_type": "stream",
          "name": "stdout",
          "text": [
            "Z-statistic: 1.42\n",
            "P-value: 0.1552\n"
          ]
        }
      ]
    },
    {
      "cell_type": "markdown",
      "source": [
        "26. Implement an F-test for comparing the variances of two datasets, then interpret and visualize the results."
      ],
      "metadata": {
        "id": "k6x3QbitiHEQ"
      }
    },
    {
      "cell_type": "code",
      "source": [
        "import numpy as np\n",
        "from scipy.stats import f\n",
        "\n",
        "group1 = [10, 12, 14, 16, 18]\n",
        "group2 = [8, 9, 11, 12, 15]\n",
        "\n",
        "var1 = np.var(group1, ddof=1)\n",
        "var2 = np.var(group2, ddof=1)\n",
        "\n",
        "f_stat = var1 / var2\n",
        "df1 = len(group1) - 1\n",
        "df2 = len(group2) - 1\n",
        "p_value = 1 - f.cdf(f_stat, df1, df2)\n",
        "\n",
        "print(f\"F-statistic: {f_stat:.2f}\")\n",
        "print(f\"P-value: {p_value:.4f}\")"
      ],
      "metadata": {
        "colab": {
          "base_uri": "https://localhost:8080/"
        },
        "id": "mknEfCDE8RMA",
        "outputId": "33d0d5b9-dc4f-4e4f-8deb-c4e8ddacbb36"
      },
      "execution_count": 70,
      "outputs": [
        {
          "output_type": "stream",
          "name": "stdout",
          "text": [
            "F-statistic: 1.33\n",
            "P-value: 0.3936\n"
          ]
        }
      ]
    },
    {
      "cell_type": "markdown",
      "source": [
        "27. Perform a Chi-square test for goodness of fit with simulated data and analyze the results."
      ],
      "metadata": {
        "id": "x8kTQg3qixN4"
      }
    },
    {
      "cell_type": "code",
      "source": [
        "import numpy as np\n",
        "from scipy.stats import chisquare\n",
        "\n",
        "observed = np.array([50, 30, 20])\n",
        "\n",
        "expected = np.array([33, 33, 33]) * (sum(observed) / sum([33, 33, 33]))\n",
        "\n",
        "chi2_stat, p_value = chisquare(observed, expected)\n",
        "\n",
        "print(f\"Chi-square Statistic: {chi2_stat:.2f}\")\n",
        "print(f\"P-value: {p_value:.4f}\")"
      ],
      "metadata": {
        "colab": {
          "base_uri": "https://localhost:8080/"
        },
        "id": "qH-LeAqf8gyQ",
        "outputId": "cf7a63de-c1d9-4675-82d4-dc30085f7bb9"
      },
      "execution_count": 72,
      "outputs": [
        {
          "output_type": "stream",
          "name": "stdout",
          "text": [
            "Chi-square Statistic: 14.00\n",
            "P-value: 0.0009\n"
          ]
        }
      ]
    },
    {
      "cell_type": "code",
      "source": [],
      "metadata": {
        "id": "pI_nFb2P8l7w"
      },
      "execution_count": null,
      "outputs": []
    }
  ]
}